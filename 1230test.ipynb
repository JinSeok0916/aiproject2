{
 "cells": [
  {
   "cell_type": "code",
   "execution_count": 6,
   "metadata": {},
   "outputs": [
    {
     "name": "stdout",
     "output_type": "stream",
     "text": [
      "넓이는 2 입니다.\n",
      "둘레는 6 입니다.\n"
     ]
    }
   ],
   "source": [
    "# 사각형의 넓이와 둘레 계산\n",
    "# 사각형은 width와 height 속성을 갖고\n",
    "# area : 사각형의 넓이를 반환\n",
    "# perimeter : 사각형의 둘레를 반환 하는 메서드를 가진다.\n",
    "# 사각형 객체를 생성하고 넓이와 둘레를 출력하시오.\n",
    "\n",
    "class Rectangle:\n",
    "    def __init__(self, width, height):\n",
    "        self.width = width\n",
    "        self.height = height\n",
    "    def area(self):\n",
    "        return print(f\"넓이는 {self.width * self.height} 입니다.\")\n",
    "    def perimeter(self):\n",
    "        return print(f\"둘레는 {(self.width + self.height) * 2} 입니다.\")\n",
    "\n",
    "rectangle = Rectangle(1,2)\n",
    "rectangle.area()\n",
    "rectangle.perimeter()"
   ]
  },
  {
   "cell_type": "code",
   "execution_count": 18,
   "metadata": {},
   "outputs": [
    {
     "name": "stdout",
     "output_type": "stream",
     "text": [
      "멍멍이가 멍멍!\n",
      "야옹이가 야옹!\n"
     ]
    }
   ],
   "source": [
    "# 동물의 행동 정의\n",
    "# Animal 클래스를 정의\n",
    "# Animal 클래스는 name 속성과 speak 메서드를 가진다.\n",
    "# Animal 클래스를 상속받는 Dog 와 Cat 클래스를 정의\n",
    "# Dog 클래스의 speak 메서드는 \"멍멍!\"을 출력\n",
    "# Cat 클래스의 speak 메서드는 \"야옹!\"을 출력한다.\n",
    "# 여러 Animal 객체를 리스트에 담고 반복문을 이용해 각각의 speak 메서드를 호출해라.\n",
    "\n",
    "class Animal:\n",
    "    def __init__(self, name):\n",
    "        self.name = name\n",
    "    def speak():\n",
    "        pass\n",
    "\n",
    "class Cat(Animal):\n",
    "    def speak(self):\n",
    "        return (f\"{self.name}가 야옹!\")\n",
    "class Dog(Animal):\n",
    "    def speak(self):\n",
    "        return (f\"{self.name}가 멍멍!\")\n",
    "\n",
    "list = []\n",
    "list.append(Dog(\"멍멍이\"))\n",
    "list.append(Cat(\"야옹이\"))\n",
    "\n",
    "for i in list:\n",
    "    print(i.speak())"
   ]
  },
  {
   "cell_type": "code",
   "execution_count": 9,
   "metadata": {},
   "outputs": [
    {
     "name": "stdout",
     "output_type": "stream",
     "text": [
      "추가되었습니다.\n",
      "제목 : 책 제목입니다, 저자 : 책의 저자입니다, 도서대여상태 : False\n",
      "대여되었습니다.\n",
      "제목 : 책 제목입니다, 저자 : 책의 저자입니다, 도서대여상태 : True\n",
      "이미 대여 중 입니다.\n",
      "반납되었습니다.\n",
      "제목 : 책 제목입니다, 저자 : 책의 저자입니다, 도서대여상태 : False\n"
     ]
    }
   ],
   "source": [
    "# 도서 대여 시스템\n",
    "# Book 클래스는 title, author, is_borrowed(default = False) 속성이 존재하고\n",
    "# borrow(): 대여 가능하면 대여 상태를 True로 변경, 이미 대여 중이면 메시지 출력\n",
    "# return_book(): 대여 상태를 False로 변경 하는 메서드가 존재한다.\n",
    "\n",
    "# Library 클래스엔 books 속성이 존재하고\n",
    "# add_book(): 책 추가\n",
    "# borrow_book(): 책 제목으로 대여\n",
    "# return_book(): 책 제목으로 반납\n",
    "# list_books(): 모든 책과 대여 상태 출력 하는 메서드가 존재한다.\n",
    "\n",
    "# 도서관 객체를 생성하고 책을 추가한 후, 대여와 반납을 테스트하시오.\n",
    "\n",
    "class Library():\n",
    "    books = []\n",
    "    def add_book(self):\n",
    "        Library.books.append(self)\n",
    "        print(\"추가되었습니다.\")\n",
    "    def borrow_book(self):\n",
    "        Book.borrow(self)\n",
    "    def return_book(self):\n",
    "        Book.return_book(self)\n",
    "    def list_books(self):\n",
    "        for book in Library.books:\n",
    "            print(f\"제목 : {book.title}, 저자 : {book.author}, 도서대여상태 : {book.is_borrowed}\")\n",
    "\n",
    "class Book(Library):\n",
    "    def __init__(self, title, author):\n",
    "        self.title = title\n",
    "        self.author = author\n",
    "        self.is_borrowed = False\n",
    "    def borrow(self):\n",
    "        if self.is_borrowed == False:\n",
    "            self.is_borrowed = True\n",
    "            print(\"대여되었습니다.\")\n",
    "        elif self.is_borrowed == True:\n",
    "            print(\"이미 대여 중 입니다.\")\n",
    "    def return_book(self):\n",
    "        self.is_borrowed = False\n",
    "        print(\"반납되었습니다.\")\n",
    "\n",
    "book1 = Book(\"책 제목입니다\", \"책의 저자입니다\")\n",
    "book1.add_book()\n",
    "book1.list_books()\n",
    "book1.borrow_book()\n",
    "book1.list_books()\n",
    "book1.borrow_book()\n",
    "book1.return_book()\n",
    "book1.list_books()"
   ]
  },
  {
   "cell_type": "code",
   "execution_count": null,
   "metadata": {},
   "outputs": [
    {
     "ename": "AttributeError",
     "evalue": "type object 'School' has no attribute 'grades'",
     "output_type": "error",
     "traceback": [
      "\u001b[1;31m---------------------------------------------------------------------------\u001b[0m",
      "\u001b[1;31mAttributeError\u001b[0m                            Traceback (most recent call last)",
      "Cell \u001b[1;32mIn[15], line 57\u001b[0m\n\u001b[0;32m     55\u001b[0m \u001b[38;5;66;03m# print(student1.name)\u001b[39;00m\n\u001b[0;32m     56\u001b[0m student1\u001b[38;5;241m.\u001b[39madd_grade(\u001b[38;5;241m70\u001b[39m)\n\u001b[1;32m---> 57\u001b[0m \u001b[38;5;28mprint\u001b[39m(\u001b[43mstudent1\u001b[49m\u001b[38;5;241;43m.\u001b[39;49m\u001b[43maverage_grade\u001b[49m\u001b[43m(\u001b[49m\u001b[43m)\u001b[49m)\n",
      "Cell \u001b[1;32mIn[15], line 43\u001b[0m, in \u001b[0;36mStudent.average_grade\u001b[1;34m(self)\u001b[0m\n\u001b[0;32m     42\u001b[0m \u001b[38;5;28;01mdef\u001b[39;00m \u001b[38;5;21maverage_grade\u001b[39m(\u001b[38;5;28mself\u001b[39m):\n\u001b[1;32m---> 43\u001b[0m     stuNum \u001b[38;5;241m=\u001b[39m \u001b[43mSchool\u001b[49m\u001b[38;5;241;43m.\u001b[39;49m\u001b[43mgrades\u001b[49m\u001b[38;5;241m.\u001b[39mindex(\u001b[38;5;28mself\u001b[39m\u001b[38;5;241m.\u001b[39mname)\n\u001b[0;32m     44\u001b[0m     stuGrades \u001b[38;5;241m=\u001b[39m School\u001b[38;5;241m.\u001b[39mgrades\u001b[38;5;241m.\u001b[39mget(stuNum)\n\u001b[0;32m     45\u001b[0m     gradeCnt \u001b[38;5;241m=\u001b[39m \u001b[38;5;241m0\u001b[39m\n",
      "\u001b[1;31mAttributeError\u001b[0m: type object 'School' has no attribute 'grades'"
     ]
    }
   ],
   "source": [
    "# 학생 관리 시스템\n",
    "# Student 클래스는 name, age, grades 속성을 갖고 있고\n",
    "# add_grade(grade): 성적을 추가\n",
    "# average_grade(): 평균 성적을 반환 하는 메서드를 갖고 있다.\n",
    "\n",
    "# School 클래스는 students(학생 리스트)를 갖고 있고\n",
    "# add_student(student): 학생을 추가\n",
    "# list_students(): 모든 학생 이름을 출력\n",
    "# list_averages(): 모든 학생의 평균 성적을 출력 하는 메서드를 갖고 있다.\n",
    "\n",
    "class School:\n",
    "    students = []\n",
    "    def add_student(self):\n",
    "        School.students.append(self)\n",
    "    def list_students(self):\n",
    "        for stuName in School.students:\n",
    "            print(stuName)\n",
    "    def list_average(self):\n",
    "        stuCnt = 0\n",
    "        allGrade = 0\n",
    "        avg = 0\n",
    "        for stuGrade in School.students:\n",
    "            stuCnt += 1\n",
    "            allGrade += stuGrade.grades\n",
    "        avg = allGrade / stuCnt\n",
    "        print(avg)\n",
    "\n",
    "class Student(School):\n",
    "    def __init__(self, name, age):\n",
    "        self.name = name\n",
    "        self.age = age\n",
    "        self.grade = []\n",
    "    def add_grade(self, grade):\n",
    "        i = 0\n",
    "        while i < len(School.students):\n",
    "            if School.students[i].name == self.name:\n",
    "                stuNum = i\n",
    "                break\n",
    "            else:\n",
    "                i += 1\n",
    "        School.students[0].grade.append(grade)\n",
    "    def average_grade(self):\n",
    "         while i < len(School.students):\n",
    "            if School.students[i].name == self.name:\n",
    "                stuNum = i\n",
    "                break\n",
    "            else:\n",
    "                i += 1\n",
    "        stuGrades = School.gradesstuNum\n",
    "        gradeCnt = 0\n",
    "        allGrade = 0\n",
    "        stuAvg = 0\n",
    "        for stuGrade in stuGrades:\n",
    "            allGrade += stuGrade\n",
    "            gradeCnt += 1\n",
    "        stuAvg = allGrade / gradeCnt\n",
    "\n",
    "student1 = Student(\"진석\", \"29\")\n",
    "student1.add_student()\n",
    "# print(student1.name)\n",
    "student1.add_grade(70)\n",
    "print(student1.average_grade())\n"
   ]
  }
 ],
 "metadata": {
  "kernelspec": {
   "display_name": ".venv",
   "language": "python",
   "name": "python3"
  },
  "language_info": {
   "codemirror_mode": {
    "name": "ipython",
    "version": 3
   },
   "file_extension": ".py",
   "mimetype": "text/x-python",
   "name": "python",
   "nbconvert_exporter": "python",
   "pygments_lexer": "ipython3",
   "version": "3.12.8"
  }
 },
 "nbformat": 4,
 "nbformat_minor": 2
}
