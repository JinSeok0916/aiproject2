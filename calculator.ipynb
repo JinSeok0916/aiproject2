{
 "cells": [
  {
   "cell_type": "code",
   "execution_count": null,
   "metadata": {},
   "outputs": [],
   "source": [
    "# 계산기 만들기\n",
    "#  -------------\n",
    "# | /  *  -  +  |\n",
    "# | 7  8  9  엔 |\n",
    "# | 4  5  6  터 |\n",
    "# | 1  2  3  키 |\n",
    "# |    0  .  이 |\n",
    "#  -------------"
   ]
  },
  {
   "cell_type": "code",
   "execution_count": 25,
   "metadata": {},
   "outputs": [
    {
     "name": "stdout",
     "output_type": "stream",
     "text": [
      "3.0\n"
     ]
    }
   ],
   "source": [
    "# 사칙 연산 함수\n",
    "def add(x, y):\n",
    "    return x + y\n",
    "def subtraction(x, y):\n",
    "    return x - y\n",
    "def multiply(x, y):\n",
    "    return x * y\n",
    "def divide(x, y):\n",
    "    return x / y\n",
    "\n",
    "# 계산기 기능\n",
    "def calculate(x, operator, y):\n",
    "    if operator == \"+\":\n",
    "        return add(x, y)\n",
    "    elif operator == \"-\":\n",
    "        return subtraction(x, y)\n",
    "    elif operator == \"*\":\n",
    "        return multiply(x, y)\n",
    "    elif operator == \"/\":\n",
    "        return divide(x, y)\n",
    "    else:\n",
    "        print(\"잘못된 연산자입니다.\")\n",
    "    \n",
    "# 입력받기\n",
    "import builtins\n",
    "def someinput():\n",
    "    x = float(builtins.input(\"숫자 : \"))\n",
    "    operator = builtins.input(\"연산자 : \")\n",
    "    y = float(builtins.input(\"숫자 : \"))\n",
    "    return x, operator, y\n",
    "\n",
    "# 합치기\n",
    "def calculator():\n",
    "    x, operator, y = someinput()\n",
    "    result = calculate(x, operator, y)\n",
    "    print(f\"{result}\")\n",
    "    \n",
    "\n",
    "calculator()"
   ]
  }
 ],
 "metadata": {
  "kernelspec": {
   "display_name": ".venv",
   "language": "python",
   "name": "python3"
  },
  "language_info": {
   "codemirror_mode": {
    "name": "ipython",
    "version": 3
   },
   "file_extension": ".py",
   "mimetype": "text/x-python",
   "name": "python",
   "nbconvert_exporter": "python",
   "pygments_lexer": "ipython3",
   "version": "3.12.8"
  }
 },
 "nbformat": 4,
 "nbformat_minor": 2
}
